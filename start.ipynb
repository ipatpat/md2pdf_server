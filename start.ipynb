{
 "cells": [
  {
   "cell_type": "code",
   "execution_count": null,
   "id": "1e2835e5",
   "metadata": {},
   "outputs": [
    {
     "name": "stdout",
     "output_type": "stream",
     "text": [
      " * Serving Flask app '__main__'\n",
      " * Debug mode: on\n"
     ]
    },
    {
     "name": "stderr",
     "output_type": "stream",
     "text": [
      "\u001b[31m\u001b[1mWARNING: This is a development server. Do not use it in a production deployment. Use a production WSGI server instead.\u001b[0m\n",
      " * Running on all addresses (0.0.0.0)\n",
      " * Running on http://127.0.0.1:8002\n",
      " * Running on http://172.30.106.81:8002\n",
      "\u001b[33mPress CTRL+C to quit\u001b[0m\n"
     ]
    }
   ],
   "source": [
    "from flask import Flask, request, send_from_directory, jsonify\n",
    "import tempfile\n",
    "import os\n",
    "import pypandoc\n",
    "\n",
    "app = Flask(__name__)\n",
    "\n",
    "# 本地 PDF 存储目录\n",
    "PDF_DIR = os.path.join(os.getcwd(), 'pdfs')\n",
    "os.makedirs(PDF_DIR, exist_ok=True)\n",
    "\n",
    "@app.route('/convert', methods=['POST'])\n",
    "def convert():\n",
    "    # 接收 JSON 请求，包含 markdown 和 file_name 字段\n",
    "    data = request.get_json()\n",
    "    if not data or 'markdown' not in data or 'file_name' not in data:\n",
    "        return jsonify(error=\"Missing 'markdown' or 'file_name' in request body\"), 400\n",
    "\n",
    "    md_content = data['markdown']\n",
    "    requested_name = data['file_name']\n",
    "    # 确保文件名安全、只保留基础名\n",
    "    safe_name = os.path.basename(requested_name)\n",
    "    # 若用户未指定 .pdf 后缀，则自动添加\n",
    "    if not safe_name.lower().endswith('.pdf'):\n",
    "        safe_name += '.pdf'\n",
    "\n",
    "    # 把 Markdown 写入临时文件\n",
    "    with tempfile.NamedTemporaryFile(delete=False, suffix='.md') as md_file:\n",
    "        md_file.write(md_content.encode('utf-8'))\n",
    "        md_path = md_file.name\n",
    "\n",
    "    # 创建临时 PDF 文件路径\n",
    "    pdf_fd, pdf_temp_path = tempfile.mkstemp(suffix='.pdf')\n",
    "    os.close(pdf_fd)\n",
    "\n",
    "    try:\n",
    "        # 使用 pypandoc.convert_file 在 Python 中调用 Pandoc\n",
    "        pypandoc.convert_file(md_path, 'pdf', format='md', outputfile=pdf_temp_path)\n",
    "\n",
    "    except Exception as e:\n",
    "        # 转换出错，清理临时文件后返回错误\n",
    "        error_msg = repr(e) if isinstance(e, tuple) else str(e)\n",
    "        print(f\"转换错误: {error_msg}\")\n",
    "        try:\n",
    "            os.remove(md_path)\n",
    "        except OSError:\n",
    "            pass\n",
    "        try:\n",
    "            os.remove(pdf_temp_path)\n",
    "        except OSError:\n",
    "            pass\n",
    "        return jsonify(error=f\"Conversion failed: {error_msg}\"), 500\n",
    "\n",
    "    # 将生成的文件移动到存储目录，并使用用户指定的文件名\n",
    "    final_path = os.path.join(PDF_DIR, safe_name)\n",
    "    os.replace(pdf_temp_path, final_path)\n",
    "\n",
    "    # 清理 Markdown 临时文件\n",
    "    try:\n",
    "        os.remove(md_path)\n",
    "    except OSError:\n",
    "        pass\n",
    "\n",
    "    # 返回下载链接\n",
    "    download_url = f\"{request.url_root}pdfs/{safe_name}\"\n",
    "    return jsonify(url=download_url, file_name=safe_name)\n",
    "\n",
    "@app.route('/pdfs/<path:filename>', methods=['GET'])\n",
    "def serve_pdf(filename):\n",
    "    # 提供 PDF 下载\n",
    "    return send_from_directory(PDF_DIR, filename, as_attachment=True)\n",
    "\n",
    "if __name__ == '__main__':\n",
    "    app.run(host='0.0.0.0', port=8002, debug=True, use_reloader=False)\n"
   ]
  }
 ],
 "metadata": {
  "kernelspec": {
   "display_name": "pdfconv",
   "language": "python",
   "name": "python3"
  },
  "language_info": {
   "codemirror_mode": {
    "name": "ipython",
    "version": 3
   },
   "file_extension": ".py",
   "mimetype": "text/x-python",
   "name": "python",
   "nbconvert_exporter": "python",
   "pygments_lexer": "ipython3",
   "version": "3.9.22"
  }
 },
 "nbformat": 4,
 "nbformat_minor": 5
}
